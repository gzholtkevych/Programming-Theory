{
  "nbformat": 4,
  "nbformat_minor": 0,
  "metadata": {
    "colab": {
      "provenance": [],
      "toc_visible": true,
      "authorship_tag": "ABX9TyMzVz84VPN9YVtDaD1j0K8m",
      "include_colab_link": true
    },
    "kernelspec": {
      "name": "python3",
      "display_name": "Python 3"
    },
    "language_info": {
      "name": "python"
    }
  },
  "cells": [
    {
      "cell_type": "markdown",
      "metadata": {
        "id": "view-in-github",
        "colab_type": "text"
      },
      "source": [
        "<a href=\"https://colab.research.google.com/github/gzholtkevych/Programming-Theory/blob/master/RecFunction.ipynb\" target=\"_parent\"><img src=\"https://colab.research.google.com/assets/colab-badge.svg\" alt=\"Open In Colab\"/></a>"
      ]
    },
    {
      "cell_type": "markdown",
      "source": [
        "<H1><b>РЕКУРСТВНІ ФУНКЦІЇ</b></H1>"
      ],
      "metadata": {
        "id": "hPC8tHhsrRn8"
      }
    },
    {
      "cell_type": "markdown",
      "source": [
        "# Налаштування"
      ],
      "metadata": {
        "id": "fze6M1mFrgUm"
      }
    },
    {
      "cell_type": "code",
      "execution_count": 2,
      "metadata": {
        "id": "BvT_voyUrKE0"
      },
      "outputs": [],
      "source": [
        "from typing import Dict, Any, Tuple\n",
        "from typing_extensions import Self\n",
        "\n",
        "from functools import reduce"
      ]
    },
    {
      "cell_type": "markdown",
      "source": [
        "# Натуральні числа"
      ],
      "metadata": {
        "id": "yaADA797rnl6"
      }
    },
    {
      "cell_type": "markdown",
      "source": [
        "## Аксіоматика Пеано"
      ],
      "metadata": {
        "id": "ZvNZ_CUHzURr"
      }
    },
    {
      "cell_type": "markdown",
      "source": [
        "Множина натуральних чисел - це найменша множина, що містить $0$ та з кожним свохм елементом $n$ містить наступний елемент $S(n)$, причому\n",
        "\n",
        "1. для будь-якого елемента $n$ цієї множини вірно $S(n)\\neq0$;\n",
        "2. з рівності $S(n)=S(m)$ для елементів цієї множини $n$ та $m$ випливає рівність $n=m$;\n",
        "3. для будь-якого предиката $P$, визначеного на цій множині, вірність\n",
        "    - $P(0)$ та\n",
        "    - $P(m)\\to P(S(m))$\n",
        "\n",
        "    забезпечує вірність для $m$ з цієї множини забезпечує вірність $P(n)$ для всіх $n$ з цієї множини."
      ],
      "metadata": {
        "id": "gtPTul45zamT"
      }
    },
    {
      "cell_type": "markdown",
      "source": [
        "## Програмна реалізація"
      ],
      "metadata": {
        "id": "IoLuQscs7Zn8"
      }
    },
    {
      "cell_type": "markdown",
      "source": [
        "Пропонується реалізувати концепцію натурального числа як клас `nat`, який успадковується від вбудованого типу `int`.\n",
        "\n",
        "Натуральним числом в цій реалізації є невід'ємне ціле число.\n",
        "\n",
        "Для униможливлення створення двох натуральних чисел з однаковими значеннями цей клас містить статичний словник `__used`, значеннями якого є вже створені натуральні числа, а ключами - відповідні представлення цих чисел рядками.\n",
        "\n",
        "Таким чином, при створенні натурального числа метод `__new__()` перевіряє\n",
        "\n",
        "- можливість перетворення прототипу у ціле число,\n",
        "- невід'ємність отриманого цілого числа та\n",
        "- присутність його у словнику `__used`.\n",
        "\n",
        "Крім того, єкземпляр цього класу не може дорівнювати цілому числу з таким самим значенням, що забезпечено перевантаженням методу `__eq__()`."
      ],
      "metadata": {
        "id": "ZhbIW8TrT6Rf"
      }
    },
    {
      "cell_type": "code",
      "source": [
        "class nat(int):\n",
        "\n",
        "    __used: Dict[str, Self] = {}\n",
        "\n",
        "    def __new__(cls, prototype: Any) -> Self:\n",
        "        try:\n",
        "            ix = int(prototype)\n",
        "        except ValueError:\n",
        "            raise ValueError(\"invalid prototype type for nat()\")\n",
        "        if ix < 0:\n",
        "            raise ValueError(\"invalid prototype value for nat()\")\n",
        "        # return super().__new__(cls, ix)\n",
        "        sx = str(ix)\n",
        "        if sx not in nat.__used:\n",
        "            nat.__used[sx] = super().__new__(cls, ix)\n",
        "        return nat.__used[sx]\n",
        "\n",
        "    def __eq__(self, another: Any) -> bool:\n",
        "        if type(another) != nat:\n",
        "            return False\n",
        "        return super().__eq__(another)\n",
        "\n",
        "    def __ne__(self, another: Any) -> bool:\n",
        "        return not (self == another)"
      ],
      "metadata": {
        "id": "hLmDuv8bsCF1"
      },
      "execution_count": 3,
      "outputs": []
    },
    {
      "cell_type": "markdown",
      "source": [
        "# Рекурсивні функції"
      ],
      "metadata": {
        "id": "X5iTmvpm9RY6"
      }
    },
    {
      "cell_type": "markdown",
      "source": [
        "Об'єктом нашого рпроєкту є (загалом часткові) функції натуральних аргументів з натуральними значеннями.\n",
        "\n",
        "Кожна така функція $f$ визначається кількістю своїх аргументів $n >0$ і правилом обчислення, за яким деяким (не обов'язково всім, як пояснюється нижче) кортежам аргументів $( x_{1} ,\\dotsc ,x_{n})\\in\\mathbb{N}^{n}$ однозначно ставиться у відповідність натуральне число, яке називають значенням функції і позначаються $f(x_{1},\\dotsc ,x_{n})$.\n",
        "\n",
        "В інформатиці вважається, що відповісти на питання чи можна визначити значення $f(x_{1},\\dotsc,x_{n})$ за допомогою відповідного правила не можливо без застосування цього правила до конкретного кортежу, а сам процес застосування правила не обов'язково завершується.\n",
        "<br/>\n",
        "У останньому випадку вважається, що значення $f( x_{1},\\dotsc,x_{n})$ не визначене, що далі позначається через $f(x_{1},\\dotsc,x_{n})=\\uparrow$.\n",
        "<br/>\n",
        "Якщо ж процес застосування правила дає значення $\\displaystyle y$, тоді використовується позначення $\\displaystyle f( x_{1} ,\\dotsc ,x_{n}) =\\downarrow y$.\n",
        "\n",
        "Проблемою такого підходу є визначення того, що є правилами обчислення.\n",
        "\n",
        "Для вирішення цієї проблеми у моделі, що розглядається будується клас функцій, для яких постулюються інтуітивно зрозумілі правила, а інші функції вважаються непридатними для використання у програмуванні.\n",
        "<br/>\n",
        "Функції побудованого класу називають рекурсивними функціями, а їх клас зазвичай позначають через $\\displaystyle \\mathcal{R}$."
      ],
      "metadata": {
        "id": "CmijvjVB9ZJL"
      }
    },
    {
      "cell_type": "markdown",
      "source": [
        "## Базисні рекурсивні функції"
      ],
      "metadata": {
        "id": "gWOJl8m2-yuY"
      }
    },
    {
      "cell_type": "markdown",
      "source": [
        "Спочатку визначається множина так званих базисних функцій:\n",
        "\n",
        "- $\\operatorname{z}(x)=\\downarrow 0$ для всіх $x\\in\\mathbb{N}$ є функцією одної змінної, яка тотожньо дорівнює нулю;\n",
        "- $\\operatorname{s}(x) =\\downarrow x+1$ для всіх $x\\in\\mathbb{N}$ є також функцією одної змінної;\n",
        "- $\\operatorname{I}_{k}^{(n)}(x_{1},\\dotsc,x_{n})=\\downarrow x_{k}$ для $n >0,\\ 1\\leq k\\leq n$ і всіх $(x_{1},\\dotsc,x_{n})\\in\\mathbb{N}^{n}$ є сім'єю функцій, члени якої є функціями від різного числа аргументів\n",
        "\n",
        "Зрозуміло, що правила обчислень для всіх базисних функцій у такий спосіб визначені.\n",
        "Всі базисні функції вважаються рекурсивними за визначенням."
      ],
      "metadata": {
        "id": "r8HLpH5u-45P"
      }
    },
    {
      "cell_type": "markdown",
      "source": [
        "$\\operatorname{I}^{(1)}_1(x)=x$ для всіх натуральних $x$."
      ],
      "metadata": {
        "id": "_MNuCvTNknQh"
      }
    },
    {
      "cell_type": "markdown",
      "source": [
        "## Правила побудови нових рекурсивних функцій"
      ],
      "metadata": {
        "id": "aKru8RjTCAnU"
      }
    },
    {
      "cell_type": "markdown",
      "source": [
        "### Правило суперпозиції"
      ],
      "metadata": {
        "id": "eh4GF0E7CINk"
      }
    },
    {
      "cell_type": "markdown",
      "source": [
        "Якщо є рекурсивна функція від $m$ аргументів $f$ та рекурсивні функції від $n$ аргументів $g_{1},\\dotsc,g_{m}$, де $m,n >0$, тоді суперпозицією цих функцій є функція $h$ від $n$ аргументів, що визначається у наступний спосіб\n",
        "\\begin{align*}\n",
        "h(x_{1},\\dotsc,x_{n}) &=\\downarrow z\\text{ якщо }g_{i}(x_{1},\\dotsc,x_{n})=\\downarrow y_{i}\\text{ для всіх }i=1,\\dotsc ,m,\\text{ а }f(y_{1},\\dotsc,y_{m})=\\downarrow z\\\\\n",
        "h(x_{1},\\dotsc,x_{n}) &=\\uparrow\\text{ якщо попереднє не є виконаним},\n",
        "\\end{align*}\n",
        "вважається рекурсивною функцією.\n",
        "\n",
        "**Зауваження.** Для такої функції $h$ іноді використовується позначення $f\\ast( g_{1},\\dotsc,g_{m})$."
      ],
      "metadata": {
        "id": "bsB0BXTxCMo4"
      }
    },
    {
      "cell_type": "markdown",
      "source": [
        "$\\operatorname{one}=\\operatorname{s}*(\\operatorname{z})$<br/>\n",
        "$\\operatorname{one\\_n}=\\operatorname{one}*(\\operatorname{I}^{(n)}_1)$"
      ],
      "metadata": {
        "id": "kgkRSS9Llh-i"
      }
    },
    {
      "cell_type": "markdown",
      "source": [
        "### Правило примітивної рекурсії"
      ],
      "metadata": {
        "id": "nxytHZxjEeWo"
      }
    },
    {
      "cell_type": "markdown",
      "source": [
        "Якщо є рекурсивні функції $f$ від $n$ аргументів та $g$ від $n+2$ аргументів, де $n>0$, тоді примітивною рекурсією цих функцій є функція $h$ від $n+1$ аргумента, що визначається у наступний спосіб\n",
        "\\begin{align*}\n",
        "h(0,x_{1},\\dotsc,x_{n}) &=\\downarrow z\\text{ якщо }f( x_{1},\\dotsc,x_{n})=\\downarrow z\\\\\n",
        "h(x+1,x_{1},\\dotsc,x_{n}) &=\\downarrow z\\text{ якщо }h(x,x_{1},\\dotsc,x_{n}) =\\downarrow y,\\text{ а }g(x,y,x_{1},\\dotsc,x_{n}) =\\downarrow z\\\\\n",
        "h(x,x_{1},\\dotsc,x_{n}) &=\\uparrow\\text{ якщо попереднє не є виконаним},\n",
        "\\end{align*}\n",
        "вважається рекурсивною функцією.\n",
        "\n",
        "**Зауваження.** Для такої функції $h$ іноді використовується позначення $\\rho x(f,g)$.\n",
        "\n",
        "**Примітивно рекурсивні функції.** Функції, що утворюються з базисних шляхом послідовних застосувань правил суперпозиції і примітивної рекурсії, називаються примітивно рекурсивними функціями.\n",
        "Відповідний клас функції позначається через $\\mathcal{PR}$."
      ],
      "metadata": {
        "id": "c6oxcA0cE4V4"
      }
    },
    {
      "cell_type": "markdown",
      "source": [
        "### Правило мінімізації"
      ],
      "metadata": {
        "id": "Ru6vWM-9JY-S"
      }
    },
    {
      "cell_type": "markdown",
      "source": [
        "Якщо є рекурсивна функція $f$ від $n+1$ змінної, де $n >0$, тоді її мінімізацією є функція $h$ від $n$ змінних, що визначається у наступний спосіб\n",
        "\\begin{align*}\n",
        "h(x_{1},\\dotsc,x_{n}) &=\\downarrow z\\text{ якщо }f(x,x_{1},\\dotsc,x_{n}) =\\downarrow y_{x}>0\\text{ для всіх }0\\leq x<z,\\text{ а }f(z,x_{1},\\dotsc,x_{n}) =\\downarrow 0\\\\\n",
        "h(x_{1},\\dotsc,x_{n}) &=\\uparrow\\text{ якщо попереднє не є виконаним},\n",
        "\\end{align*}\n",
        "вважається рекурсивною функцією.\n",
        "\n",
        "**Зауваження.** Для функції $h$ іноді використовується позначення $\\mu x(f(x,x_{1},\\dotsc,x_{n})=0)$.\n",
        "\n",
        "**Рекурсивні функції.** Функції, що утворюються з базисних шляхом послідовних застосувань правил суперпозиції, примітивної рекурсії та мінімізації, називаються рекурсивними функціями."
      ],
      "metadata": {
        "id": "qp89mAlsJgMR"
      }
    },
    {
      "cell_type": "markdown",
      "source": [
        "## Програмна реалізація"
      ],
      "metadata": {
        "id": "WVGSNmpnN1yI"
      }
    },
    {
      "cell_type": "code",
      "source": [
        "class RecFun(tuple):\n",
        "\n",
        "    def __new__(cls, *args) -> Self:\n",
        "        if not args:\n",
        "            raise ValueError(\"no argument for RecFun()\")\n",
        "        if args[0] == 0:  # zero function\n",
        "            if len(args) != 1:\n",
        "                raise ValueError(\"invalid argument(s) for RecFun()\")\n",
        "            return super().__new__(cls, (1, lambda u: 0))\n",
        "        if args[0] == 1:  # succ function\n",
        "            if len(args) != 1:\n",
        "                raise ValueError(\"invalid argument(s) for RecFun()\")\n",
        "            return super().__new__(cls, (1, lambda u: u + 1))\n",
        "        if args[0] == 2:  # proj function\n",
        "            if len(args) != 3:\n",
        "                raise ValueError(\"invalid argument(s) for RecFun()\")\n",
        "            if not all(isinstance(arg, int) for arg in args[1 :]):\n",
        "                raise ValueError(\"invalid argument(s) for RecFun()\")\n",
        "            if not 1 <= args[2] <= args[1]:\n",
        "                raise ValueError(\"invalid argument(s) for RecFun()\")\n",
        "            return super().__new__(cls, (args[1], lambda *u: u[args[2] - 1]))\n",
        "        if args[0] == 3:  # superposition of functions\n",
        "            if len(args) < 3:\n",
        "                raise ValueError(\"invalid argument(s) for RecFun()\")\n",
        "            f = args[1]\n",
        "            gs = args[2 :]\n",
        "            if not all(isinstance(arg, RecFun) for arg in args[1 :]):\n",
        "                raise ValueError(\"invalid argument(s) for RecFun()\")\n",
        "            f_nargs = args[1][0]\n",
        "            if f[0] != len(gs):\n",
        "                raise ValueError(\"invalid argument(s) for RecFun()\")\n",
        "            if len(args) == 3:\n",
        "                return super().__new__(cls, (\n",
        "                    gs[0][0], lambda *u: f[1](gs[0][1](*u))))\n",
        "            if not reduce(lambda u, v: u[0] == v[0], args[2 :]):\n",
        "                raise ValueError(\"invalid argument(s) for RecFun()\")\n",
        "            nargs = gs[0][0]\n",
        "            return super().__new__(cls, (\n",
        "                args[2][0],\n",
        "                lambda *u: f[1](*tuple(arg[1](u) for arg in gs))))\n",
        "        if args[0] == 4:  # primitive recursion of functions\n",
        "            if len(args) != 3:\n",
        "                raise ValueError(\"invalid argument(s) for RecFun()\")\n",
        "            if args[1][0] + 2 != args[2][0]:\n",
        "                raise ValueError(\"invalid argument(s) for RecFun()\")\n",
        "            nargs = args[1][0] + 1\n",
        "            def inner(*u):\n",
        "                n, x, u = 0, u[0], u[1 :]\n",
        "                z = args[1][1](*u)\n",
        "                print(f\"n = {n}, x = {x}, u = {u}, z = {z}\")\n",
        "                while n < x:\n",
        "                    z = args[2][1](n, z, u)\n",
        "                    n += 1\n",
        "                return z\n",
        "            return super().__new__(cls, (nargs, inner))\n",
        "        if args[0] == 5:  # minimization of a function\n",
        "            if len(args) != 2:\n",
        "                raise ValueError(\"invalid argument(s) for RecFun()\")\n",
        "            if args[1][0] < 2:\n",
        "                raise ValueError(\"invalid argument(s) for RecFun()\")\n",
        "            nargs = args[1][0] - 1\n",
        "            def inner(*u):\n",
        "                x, u = 0, u[1 :]\n",
        "                z = args[1][1](x, u)\n",
        "                while z > 0:\n",
        "                    x += 1\n",
        "                    z = args[1][1](x, u)\n",
        "                return z\n",
        "            return super().__new__(cls, (nargs, inner))\n",
        "        raise ValueError(\"invalid argument(s) for RecFun()\")\n",
        "\n",
        "    def __call__(self, *args: Tuple[nat]) -> nat:\n",
        "        if self[0] != len(args):\n",
        "            raise TypeError(\"invalid number of function arguments\")\n",
        "        if not all(isinstance(arg, nat) for arg in args):\n",
        "            raise TypeError(\"invalid type of function argument(s)\")\n",
        "        return self[1](*args)"
      ],
      "metadata": {
        "id": "lmsEHjcBsm4W"
      },
      "execution_count": 4,
      "outputs": []
    },
    {
      "cell_type": "code",
      "source": [
        "id = RecFun(2, 1, 1)\n",
        "succ = RecFun(1)\n",
        "pr32 = RecFun(2, 3, 2)\n",
        "sadd = RecFun(3, succ, pr32)\n",
        "add = RecFun(4, id, sadd)\n",
        "print(f\"id(2) = {id(nat(2))}\")\n",
        "print(f\"succ(5) = {succ(nat(5))}\")\n",
        "print(f\"pr3_2(1, 2, 3) = {pr32(nat(1), nat(2), nat(3))}\")\n",
        "print(f\"sadd(1, 5, 3) = {sadd(nat(1), nat(5), nat(3))}\")\n",
        "print(f\"add(4, 5) = {add(nat(4), nat(5))}\")"
      ],
      "metadata": {
        "colab": {
          "base_uri": "https://localhost:8080/"
        },
        "id": "0wGBj7JC5XN4",
        "outputId": "aaa3c9ea-47ad-4048-8dea-d0812887547a"
      },
      "execution_count": null,
      "outputs": [
        {
          "output_type": "stream",
          "name": "stdout",
          "text": [
            "id(2) = 2\n",
            "succ(5) = 6\n",
            "pr3_2(1, 2, 3) = 2\n",
            "sadd(1, 5, 3) = 6\n",
            "n = 0, x = 4, u = (5,), z = 5\n",
            "add(4, 5) = 9\n"
          ]
        }
      ]
    }
  ]
}