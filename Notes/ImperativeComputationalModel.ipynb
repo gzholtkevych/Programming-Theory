{
  "nbformat": 4,
  "nbformat_minor": 0,
  "metadata": {
    "colab": {
      "provenance": [],
      "collapsed_sections": [
        "gyU6fF7N9_Mq",
        "Hfy-ZljN-XDa",
        "UoduV8Mz_oVc",
        "OCIxG-_1AbUi",
        "UsZrBp-bDdxy",
        "NZQk2-TLDvIF"
      ],
      "toc_visible": true,
      "authorship_tag": "ABX9TyMPljzt9Db9tYF56rEEAj0Y",
      "include_colab_link": true
    },
    "kernelspec": {
      "name": "python3",
      "display_name": "Python 3"
    },
    "language_info": {
      "name": "python"
    }
  },
  "cells": [
    {
      "cell_type": "markdown",
      "metadata": {
        "id": "view-in-github",
        "colab_type": "text"
      },
      "source": [
        "<a href=\"https://colab.research.google.com/github/gzholtkevych/Programming-Theory/blob/master/Notes/ImperativeComputationalModel.ipynb\" target=\"_parent\"><img src=\"https://colab.research.google.com/assets/colab-badge.svg\" alt=\"Open In Colab\"/></a>"
      ]
    },
    {
      "cell_type": "markdown",
      "source": [
        "<H1><b>Computation is an interaction of Mealy and Moore Automata</b></H1>\n",
        "\n",
        "Here, the general imperative model of computation is given.\n",
        "This model was proposed by V. Glushkov in 1964.\n",
        "We demonstrate that the unlimited register machine is a particular case of this general concept."
      ],
      "metadata": {
        "id": "mxL8_ztR9sB_"
      }
    },
    {
      "cell_type": "markdown",
      "source": [
        "# **State Machines**\n",
        "\n",
        "A state machine is a principal concept for our further consideration."
      ],
      "metadata": {
        "id": "gyU6fF7N9_Mq"
      }
    },
    {
      "cell_type": "markdown",
      "source": [
        "## **Definitions**"
      ],
      "metadata": {
        "id": "Hfy-ZljN-XDa"
      }
    },
    {
      "cell_type": "markdown",
      "source": [
        ">**Definition** (of a state machine).\n",
        ">A *state machine* is a triple $(Q,\\Sigma,\\mathtt{do})$ where\n",
        ">- $Q$ is a set whose elements are called *states*;\n",
        ">- $\\Sigma$ is a finite alphabet called the *input alphabet*;\n",
        ">- $\\mathtt{do}:Q\\to Q^\\Sigma$ called the *transition function*.\n",
        "\n",
        "The presented definition specifies only the structure of a state machine but does not say anything about its behaviour.\n",
        "To define the behaviour of a state machine, the following *reaction function* of the state machine is needed.\n",
        "\n",
        ">**Definition** (of the reaction function).\n",
        ">The reaction function of a state machine $(Q,\\Sigma,\\mathtt{do})$ is defined as follows<br/>\n",
        ">$$\\begin{array}{ll}\\mathtt{run}\\ q=\\lambda\\ x:\\Sigma^\\ast\\mathop{.}&\\mathtt{match}\\ x\\ \\mathtt{with} \\\\ &\\mid\\ [\\ ] \\Rightarrow\\ q \\\\ &\\mid\\ a :: \\mathtt{tail}\\Rightarrow\\ \\mathtt{run}\\ (\\mathtt{do}\\ q\\ a)\\ \\mathtt{tail} \\\\ &\\mathtt{end}\\end{array}\\quad\\quad\\quad\\texttt{for any $q\\in Q$.}$$"
      ],
      "metadata": {
        "id": "R5UJ4kC0-kPu"
      }
    },
    {
      "cell_type": "markdown",
      "source": [
        "## **Python realization**"
      ],
      "metadata": {
        "id": "UoduV8Mz_oVc"
      }
    },
    {
      "cell_type": "code",
      "source": [
        "class StateMachine:\n",
        "    \"\"\"\n",
        "    Attributes:\n",
        "    -----------\n",
        "        _Q      the state set\n",
        "        _Sigma  the input alphabet\n",
        "\n",
        "    Methods:\n",
        "    --------\n",
        "        do      the transition function\n",
        "        run     the reaction function\n",
        "    \"\"\"\n",
        "\n",
        "    def __init__(self, Q, Sigma, do):\n",
        "        \"\"\"StateMachine constructor\"\"\"\n",
        "        args_checkingflag = (\n",
        "            isinstance(Q, set) and\n",
        "            isinstance(Sigma, set) and\n",
        "            callable(do))                # is True if arguments are correct\n",
        "        if not args_checkingflag:\n",
        "            raise ValueError(\"invalid argument(s) of state machine constructor\")\n",
        "        self._Q = Q\n",
        "        self._Sigma = Sigma\n",
        "        self._do = do\n",
        "\n",
        "    def do(self, q, a):\n",
        "        \"\"\"returns the result of applying the transition function\"\"\"\n",
        "        if q in self._Q and a in self._Sigma:\n",
        "            try:\n",
        "                return self._do(q, a)\n",
        "            except:\n",
        "                raise ValueError(\"check definition of 'do'\")\n",
        "        raise ValueError(\"invalid 'do'-argument(s)\")\n",
        "\n",
        "    def run(self, q, aa):\n",
        "        \"\"\"returns the result of applying the reaction function\"\"\"\n",
        "        args_checkingflag = (\n",
        "            isinstance(aa, list) and\n",
        "            all(map(lambda x: x in self._Sigma, aa)))\n",
        "        if not args_checkingflag:\n",
        "            raise ValueError(\"invalid argument of 'run'\")\n",
        "        if aa:\n",
        "            a, aaa = aa[0], aa[1 :]\n",
        "            return self.run(self.do(q, a), aaa)\n",
        "        else:\n",
        "            return q"
      ],
      "metadata": {
        "id": "SW-F2NpZ_493"
      },
      "execution_count": null,
      "outputs": []
    },
    {
      "cell_type": "markdown",
      "source": [
        "## **Reaction function properties**"
      ],
      "metadata": {
        "id": "oU39toWZAIDR"
      }
    },
    {
      "cell_type": "markdown",
      "source": [
        "The function $\\mathtt{run}$ determines the states changing of a state machine as the response to a sequence of input impacts.\n",
        "\n",
        "Such an approach can be characterized as a sequential approach due to the following properties of the function $\\mathtt{run}$.\n",
        "\n",
        ">**Proposition**.\n",
        ">Let $(Q,\\Sigma,\\mathtt{do})$ be a state machine then\n",
        ">1. $\\mathtt{run}\\ q\\ [\\ ]=q$ for any $q\\in Q$;\n",
        ">2. $\\mathtt{run}\\ q\\ [a]=\\mathtt{do}\\ q\\ a$ for any $q\\in Q$ and $a\\in\\Sigma$;\n",
        ">3. $\\mathtt{run}\\ q\\ (x + y)=\\mathtt{run}\\ (\\mathtt{run}\\ q\\ x)\\ y$ for any $q\\in Q$ and $x,y\\in\\Sigma^\\ast$."
      ],
      "metadata": {
        "id": "-SAoyp_IAQdv"
      }
    },
    {
      "cell_type": "markdown",
      "source": [
        "# **Mealy Automata**"
      ],
      "metadata": {
        "id": "OCIxG-_1AbUi"
      }
    },
    {
      "cell_type": "markdown",
      "source": [
        ">**Definition** (of a Mealy automaton).\n",
        ">A ***Mealy automaton*** is a quintuple $(Q,\\Sigma,\\Lambda,T,G)$ where\n",
        ">- $(Q,\\Sigma,T)$ is a state machine;\n",
        ">- $\\Lambda$ is a finite alphabet called the ***output alphabet***;\n",
        ">- $G:Q\\times\\Sigma\\to\\Lambda$ called the ***output function***."
      ],
      "metadata": {
        "id": "qfrADpyrDTXm"
      }
    },
    {
      "cell_type": "markdown",
      "source": [
        "# **Moore Automata**"
      ],
      "metadata": {
        "id": "UsZrBp-bDdxy"
      }
    },
    {
      "cell_type": "markdown",
      "source": [
        ">**Definition** (of a Moore automaton).\n",
        ">A ***Moore automaton*** is a quintuple $(Q,\\Sigma,\\Lambda,T,M)$ where\n",
        ">- $(Q,\\Sigma,T)$ is a state machine;\n",
        ">- $\\Lambda$ is a finite alphabet called the ***output alphabet***;\n",
        ">- $G:Q\\to\\Lambda$ called the ***output function***."
      ],
      "metadata": {
        "id": "pDH3xo6PDnEQ"
      }
    },
    {
      "cell_type": "markdown",
      "source": [
        "# **Gluskov's Program Model**"
      ],
      "metadata": {
        "id": "NZQk2-TLDvIF"
      }
    },
    {
      "cell_type": "markdown",
      "source": [
        ">**Definition** (of a program model).\n",
        ">A ***program model*** is a tuple $(L,D,\\Sigma,\\Lambda,C,G,T,M,l_0,H)$ where\n",
        ">- $(L,\\Sigma,\\Lambda,C,G)$ is a Mealy automaton with the finite state set $L$ called the ***program control structure***;\n",
        ">- $(D,\\Lambda,\\Sigma,T,M)$ is a Moore automaton called the ***program data structure***;\n",
        ">- $l_0\\in L$ called the ***initial state***;\n",
        ">- $H\\subset L$ called the ***set of halting states***.\n",
        "\n",
        ">**Definition** (of a program dynamics).\n",
        ">Let $P=(L,D,\\Sigma,\\Lambda,C,G,T,M,l_0,H)$ be a program model then $\\delta P:L\\times D\\to L\\times D$ is called the program dynamics if\n",
        ">$$\\delta P(l,d)=(C(l,M(d)),T(d,G(l,M(d)))).$$\n",
        ">\n"
      ],
      "metadata": {
        "id": "Ny3-gsQw-LQb"
      }
    },
    {
      "cell_type": "code",
      "execution_count": null,
      "metadata": {
        "id": "JevYOw7C9q1x"
      },
      "outputs": [],
      "source": []
    }
  ]
}